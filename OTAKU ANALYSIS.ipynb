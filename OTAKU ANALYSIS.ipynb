{
  "nbformat": 4,
  "nbformat_minor": 0,
  "metadata": {
    "colab": {
      "provenance": []
    },
    "kernelspec": {
      "name": "python3",
      "display_name": "Python 3"
    },
    "language_info": {
      "name": "python"
    }
  },
  "cells": [
    {
      "cell_type": "code",
      "execution_count": 1,
      "metadata": {
        "colab": {
          "base_uri": "https://localhost:8080/"
        },
        "id": "VYgX8s0Y5RJ0",
        "outputId": "251c3d1d-47ee-440f-d9c9-d51b922bad09"
      },
      "outputs": [
        {
          "output_type": "stream",
          "name": "stdout",
          "text": [
            "Collecting pyspark\n",
            "  Downloading pyspark-3.4.1.tar.gz (310.8 MB)\n",
            "\u001b[2K     \u001b[90m━━━━━━━━━━━━━━━━━━━━━━━━━━━━━━━━━━━━━━━\u001b[0m \u001b[32m310.8/310.8 MB\u001b[0m \u001b[31m3.2 MB/s\u001b[0m eta \u001b[36m0:00:00\u001b[0m\n",
            "\u001b[?25h  Preparing metadata (setup.py) ... \u001b[?25l\u001b[?25hdone\n",
            "Requirement already satisfied: py4j==0.10.9.7 in /usr/local/lib/python3.10/dist-packages (from pyspark) (0.10.9.7)\n",
            "Building wheels for collected packages: pyspark\n",
            "  Building wheel for pyspark (setup.py) ... \u001b[?25l\u001b[?25hdone\n",
            "  Created wheel for pyspark: filename=pyspark-3.4.1-py2.py3-none-any.whl size=311285397 sha256=a67e2d4bd8bb877c86eed459e7d550b5cb36240a77d1d888c2d426301aa09da2\n",
            "  Stored in directory: /root/.cache/pip/wheels/0d/77/a3/ff2f74cc9ab41f8f594dabf0579c2a7c6de920d584206e0834\n",
            "Successfully built pyspark\n",
            "Installing collected packages: pyspark\n",
            "Successfully installed pyspark-3.4.1\n"
          ]
        }
      ],
      "source": [
        "!pip install pyspark"
      ]
    },
    {
      "cell_type": "code",
      "source": [
        "import pandas as pd"
      ],
      "metadata": {
        "id": "8kHXdkCfUzVd"
      },
      "execution_count": 15,
      "outputs": []
    },
    {
      "cell_type": "code",
      "source": [
        "df = pd.read_excel(\"/ARE YOU A CAKE OTAKU.xlsx\")"
      ],
      "metadata": {
        "id": "Buk2W5WeU94P"
      },
      "execution_count": 22,
      "outputs": []
    },
    {
      "cell_type": "markdown",
      "source": [
        "Column cleaning/ Reanaming\n",
        "\n",
        "\n",
        "\n",
        "\n"
      ],
      "metadata": {
        "id": "HZjFVv_OVKIE"
      }
    },
    {
      "cell_type": "code",
      "source": [
        "new_column_names = {\n",
        "    'If yes. What is your favorite Flavor?': 'Favorite Flavor',\n",
        "    'If YES,What other activities do enjoy besides Cake 🎂?': 'Other activities enjoyed',\n",
        "    'Would you please describe to us your cake experience ?': 'Cake experience',\n",
        "    'Why do you buy cake?':'Reason to buy Cake',\n",
        "    'How often do you buy cake?':'Frequency of buying cake',\n",
        "    'Where do you purchase your cakes from? And why.':'Place of Purchase',\n",
        "    'How do you order your cakes?':'Medium of order',\n",
        "    'What problems / issues have you faced when ordering cake?':'Problem faced ordering cake',\n",
        "    'What do you wish Bakers could do differently?':'Advise to bakers',\n",
        "    'Where do you live?':'Residence',\n",
        "    'How old are you?':'Age',\n",
        "    'What is the perfect size of cake to you?':'Perfect size of cake',\n",
        "    'Do you love cake?':'Love Cake'\n",
        "\n",
        "    # Add more mappings as needed\n",
        "}\n",
        "df.rename(columns=new_column_names, inplace=True)"
      ],
      "metadata": {
        "id": "EzBZPayrVC6e"
      },
      "execution_count": 23,
      "outputs": []
    },
    {
      "cell_type": "markdown",
      "source": [
        "drop columns"
      ],
      "metadata": {
        "id": "8Q8m0JsXWEnF"
      }
    },
    {
      "cell_type": "code",
      "source": [
        "columns_to_drop = [\n",
        "    'Timestamp',\n",
        "    'What emotions do you experience when buying or eating cake?',\n",
        "    'Which of these mediums do you use and trust?',\n",
        "    '@dropdown',\n",
        "    'If No. Why not?'\n",
        "\n",
        "\n",
        "]\n",
        "df.drop(columns=columns_to_drop, inplace=True)"
      ],
      "metadata": {
        "id": "1mLol_nuV_Cq"
      },
      "execution_count": 24,
      "outputs": []
    },
    {
      "cell_type": "markdown",
      "source": [
        "clean white space"
      ],
      "metadata": {
        "id": "8Ci0FNVxWQng"
      }
    },
    {
      "cell_type": "code",
      "source": [
        "DF = df.apply(lambda x: x.str.strip() if x.dtype == \"object\" else x)"
      ],
      "metadata": {
        "id": "vrNCKJM9WI1M"
      },
      "execution_count": 25,
      "outputs": []
    },
    {
      "cell_type": "markdown",
      "source": [
        "clean place of purchase column"
      ],
      "metadata": {
        "id": "wLNYvrfMWrak"
      }
    },
    {
      "cell_type": "code",
      "source": [
        "pip install fuzzywuzzy"
      ],
      "metadata": {
        "colab": {
          "base_uri": "https://localhost:8080/"
        },
        "id": "KSQfLQuqXjM-",
        "outputId": "c6ada2ca-9b02-4e43-bbb1-dbea3616ad8f"
      },
      "execution_count": 28,
      "outputs": [
        {
          "output_type": "stream",
          "name": "stdout",
          "text": [
            "Collecting fuzzywuzzy\n",
            "  Downloading fuzzywuzzy-0.18.0-py2.py3-none-any.whl (18 kB)\n",
            "Installing collected packages: fuzzywuzzy\n",
            "Successfully installed fuzzywuzzy-0.18.0\n"
          ]
        }
      ]
    },
    {
      "cell_type": "code",
      "source": [
        "import pandas as pd\n",
        "from fuzzywuzzy import process  # Import fuzzy string matching\n",
        "import re  # Import regular expressions library\n",
        "\n",
        "# Load your data (replace this with your actual data loading code)\n",
        "# df = pd.read_csv('your_data.csv')\n",
        "\n",
        "# Clean and categorize function\n",
        "def clean_and_categorize(response):\n",
        "    if isinstance(response, str):  # Check if the response is a string\n",
        "        cleaned_response = response.lower().strip().replace(\".\", \"\").replace(\",\", \"\")\n",
        "\n",
        "        categories = {\n",
        "            'Bakeries': ['baker', 'bakery'],\n",
        "            'Cafe Javas': [ 'cafe', 'javas'],\n",
        "            'Piato': ['piato'],\n",
        "            'serena': ['Serena'],\n",
        "            'Supermarkets': ['supermarket'],\n",
        "            'Online': ['online'],\n",
        "            'Vendor': ['Vendor'],\n",
        "            'Friends/Family': ['friend', 'wife'],\n",
        "            'Other': []  # Default category\n",
        "        }\n",
        "\n",
        "        # Split cleaned response into words\n",
        "        words = re.findall(r'\\w+', cleaned_response)\n",
        "\n",
        "        for category, keywords in categories.items():\n",
        "            for keyword in keywords:\n",
        "                if keyword in words:\n",
        "                    return category\n",
        "                # Fuzzy string matching\n",
        "                matches = process.extract(keyword, words, limit=1)\n",
        "                if matches[0][1] >= 80:  # Adjust similarity threshold as needed\n",
        "                    return category\n",
        "\n",
        "        return 'Other'  # If no category matches\n",
        "    else:\n",
        "        return 'Other'  # Handle non-string values\n",
        "\n",
        "# Apply the clean_and_categorize function to the 'Place of Purchase' column\n",
        "DF['category'] = DF['Place of Purchase'].apply(clean_and_categorize)\n",
        "\n",
        "# Display the cleaned and categorized DataFrame\n",
        "print(DF)"
      ],
      "metadata": {
        "colab": {
          "base_uri": "https://localhost:8080/"
        },
        "id": "o6_w_f9sWoy9",
        "outputId": "5d2604b4-eecd-4b6a-ecb0-d421d5c38f9a"
      },
      "execution_count": 29,
      "outputs": [
        {
          "output_type": "stream",
          "name": "stderr",
          "text": [
            "/usr/local/lib/python3.10/dist-packages/fuzzywuzzy/fuzz.py:11: UserWarning: Using slow pure-python SequenceMatcher. Install python-Levenshtein to remove this warning\n",
            "  warnings.warn('Using slow pure-python SequenceMatcher. Install python-Levenshtein to remove this warning')\n"
          ]
        },
        {
          "output_type": "stream",
          "name": "stdout",
          "text": [
            "   Love Cake                                    Favorite Flavor  \\\n",
            "0        Yes                                    Chocolate fudge   \n",
            "1        Yes                     Everything minus plain vanilla   \n",
            "2        Yes                                    Chocolate fudge   \n",
            "3        Yes                                          Chocolate   \n",
            "4         No                                                Non   \n",
            "5        Yes                                             Banana   \n",
            "6        Yes                                         Red velvet   \n",
            "7        Yes                                         Red velvet   \n",
            "8        Yes                                          Blueberry   \n",
            "9        Yes                                             Banana   \n",
            "10       Yes                                        Dark forest   \n",
            "11       Yes                                               Mint   \n",
            "12       Yes                                       Black Forest   \n",
            "13       Yes                                            Vanilla   \n",
            "14       Yes  Red velvet, cookies and cream and chocolate fu...   \n",
            "15       Yes         Mixture of Blue berries, vanilla and lemon   \n",
            "16       Yes                              Chocolate, strawberry   \n",
            "17       Yes                                            Vanilla   \n",
            "18       Yes                                            Vanilla   \n",
            "19       Yes                                         Red velvet   \n",
            "20       Yes                                                NaN   \n",
            "21       Yes                                          Chocolate   \n",
            "22       Yes                                          Blueberry   \n",
            "23       Yes                                          Chocolate   \n",
            "24       Yes                                            Vanilla   \n",
            "25       Yes                                Lemon and chocolate   \n",
            "26       Yes                                         Strawberry   \n",
            "27       Yes                            Chocolate without icing   \n",
            "28        No                                                NaN   \n",
            "29       Yes                                            Vanilla   \n",
            "30       Yes                                                NaN   \n",
            "31       Yes                                               Mint   \n",
            "32       Yes                                         Strawberry   \n",
            "33       Yes               Blue berry, bubble, pineapple, mango   \n",
            "34       Yes                                       Strawberry 🍓   \n",
            "35       NaN                            Chocolate or Red Velvet   \n",
            "36       Yes                                         Red velvet   \n",
            "37       Yes                                         Strawberry   \n",
            "38       Yes                                          Chocolate   \n",
            "39       Yes  Chocolate, Red Velvet,  Blueberry and Black Fo...   \n",
            "\n",
            "                         Other activities enjoyed  \\\n",
            "0                                        Icecream   \n",
            "1                                          Movies   \n",
            "2                                        relaxing   \n",
            "3                                         Reading   \n",
            "4                                         Chapati   \n",
            "5                                          Yogurt   \n",
            "6                                          Travel   \n",
            "7                                         Cooking   \n",
            "8                                 Baking ,cooking   \n",
            "9                         Making new friends.....   \n",
            "10                                         Gaming   \n",
            "11                               Nothing specific   \n",
            "12                                         Movies   \n",
            "13                                        Reading   \n",
            "14  Reading, writing, travel, music, singing, etc   \n",
            "15                                     Milkshakes   \n",
            "16                                    Researching   \n",
            "17                                    Kissing you   \n",
            "18                                            Sex   \n",
            "19                               Learning to cook   \n",
            "20                                            NaN   \n",
            "21                                   Movie nights   \n",
            "22                                Baking ,cooking   \n",
            "23                                       Swimming   \n",
            "24                                       Football   \n",
            "25                                         Pizza,   \n",
            "26                 Activities??? I don't get this   \n",
            "27                                 Alot of things   \n",
            "28                                            NaN   \n",
            "29                                        Cooking   \n",
            "30                                          Music   \n",
            "31                            Feeding people cake   \n",
            "32                                        Dancing   \n",
            "33                               Pizza ,ice cream   \n",
            "34                                  Swimming 🏊‍♂️   \n",
            "35                    Sports, reading, ice cream.   \n",
            "36                                       Sleeping   \n",
            "37                                       Biscuits   \n",
            "38                                      Traveling   \n",
            "39                      Reading novels and comics   \n",
            "\n",
            "                            Perfect size of cake  \\\n",
            "0                                          Small   \n",
            "1                                          Large   \n",
            "2                        depends on the occasion   \n",
            "3                                         Medium   \n",
            "4                                          Small   \n",
            "5                                            NaN   \n",
            "6                                         Medium   \n",
            "7                                         Medium   \n",
            "8                                  Medium, Large   \n",
            "9                                          Large   \n",
            "10                                        Medium   \n",
            "11                    It depends on the occasion   \n",
            "12                                        Medium   \n",
            "13                                        Medium   \n",
            "14  Medium, Though size depends on the occasion.   \n",
            "15                                        Medium   \n",
            "16                                        Medium   \n",
            "17                                         Large   \n",
            "18                                        Medium   \n",
            "19                                         Large   \n",
            "20                                        Medium   \n",
            "21                        I dont mind about size   \n",
            "22                                 Medium, Large   \n",
            "23                                        Medium   \n",
            "24                                        Medium   \n",
            "25                                        Medium   \n",
            "26                                         Large   \n",
            "27                                         Large   \n",
            "28                                        Medium   \n",
            "29                                         Large   \n",
            "30                                         Large   \n",
            "31                                         Large   \n",
            "32                                        Medium   \n",
            "33                                        Medium   \n",
            "34                                         Large   \n",
            "35                        As long as it's a cake   \n",
            "36                                        Medium   \n",
            "37                                        Medium   \n",
            "38                                        Medium   \n",
            "39                                        Medium   \n",
            "\n",
            "                                      Cake experience  \\\n",
            "0                                           Chocolate   \n",
            "1                                    I just love cake   \n",
            "2                              I generally enjoy cake   \n",
            "3                                           Delicious   \n",
            "4                                                 Non   \n",
            "5   Love so much that whenever l start eating it l...   \n",
            "6                                                 NaN   \n",
            "7   My first cake was a mess but I kept on practic...   \n",
            "8           It was really great,well moist ,sweet etc   \n",
            "9                                                 NaN   \n",
            "10                  I have cake on my birthday mainly   \n",
            "11                           Some better than others,   \n",
            "12                                                NaN   \n",
            "13                                                 No   \n",
            "14                                       It was great   \n",
            "15  Different confectioners makes different tastes...   \n",
            "16                                          Excellent   \n",
            "17                                Have no explanation   \n",
            "18                                               Good   \n",
            "19                                                NaN   \n",
            "20                                                NaN   \n",
            "21  I once enjoyed a Cake at a freinds party ,,t h...   \n",
            "22          It was really great,well moist ,sweet etc   \n",
            "23  I know good cake because I grew up tasting And...   \n",
            "24                    I often eat cakes for breakfast   \n",
            "25                         I learned primarily baking   \n",
            "26  I love cake and enjoy it a lot though lately t...   \n",
            "27  2022, I was ambushed with 3 different cakes on...   \n",
            "28                                                NaN   \n",
            "29  I enjoyed very nice cake during my introductio...   \n",
            "30                                                NaN   \n",
            "31                    I love cake with fruits in them   \n",
            "32    I enjoy spongy cakes. Hard cakes are a turn off   \n",
            "33                                    Are really good   \n",
            "34                                          Delicious   \n",
            "35                               Never had a bad cake   \n",
            "36                                                NaN   \n",
            "37                                  It was really wow   \n",
            "38             I love when the flavor feels my tongue   \n",
            "39  This question is vague. Cake experience as in ...   \n",
            "\n",
            "                                   Reason to buy Cake  \\\n",
            "0                                           Birthdays   \n",
            "1            Birthday and because I just feel like it   \n",
            "2                     to eat or celebrate an occasion   \n",
            "3                                              To eat   \n",
            "4                                         Celebration   \n",
            "5                                 Because I to eat it   \n",
            "6                                     Cause I like it   \n",
            "7                           Inorder to feel the taste   \n",
            "8   When i have something important i want to cele...   \n",
            "9                                                 NaN   \n",
            "10                                  Special occasions   \n",
            "11                 Occasions, and when I’m craving it   \n",
            "12                                          Celebrate   \n",
            "13                                       To celebrate   \n",
            "14   For celebration but also just to indulge myself.   \n",
            "15                                       To celebrate   \n",
            "16      Celebrations.occassionally like sugary things   \n",
            "17                               To make myself happy   \n",
            "18                                          I love it   \n",
            "19    Celebrations but mostly it's my biggest craving   \n",
            "20               For special occasions like birthdays   \n",
            "21  Sometimes the colors used to dress up the cake...   \n",
            "22  When i have something important i want to cele...   \n",
            "23                              Cravings,celebrations   \n",
            "24                   To eat, gor a party or as a gift   \n",
            "25  Because I love cake and I don't have requireme...   \n",
            "26  Birthdays but I always want to buy at any time...   \n",
            "27  When I have an event to celebrate or when I wa...   \n",
            "28                                           Birthday   \n",
            "29                     For Celebrations and enjoyment   \n",
            "30                                  For events mostly   \n",
            "31                          It's emotional connection   \n",
            "32                             Parties and for snacks   \n",
            "33         For birthday, parties and when I'm carving   \n",
            "34             Because am a fun and I enjoy having it   \n",
            "35  I can get it on a random day or for a celebration   \n",
            "36                                           Birthday   \n",
            "37                               Coz it's my favorite   \n",
            "38                                     It’s a craving   \n",
            "39                       Because I have a sweet tooth   \n",
            "\n",
            "                             Frequency of buying cake  \\\n",
            "0                               Once or twice a Month   \n",
            "1                               Once or twice a Month   \n",
            "2                                      As need arises   \n",
            "3                                                 NaN   \n",
            "4                                         Once a year   \n",
            "5                                                 NaN   \n",
            "6                               Once or twice a Month   \n",
            "7                               Once or twice a Month   \n",
            "8                           Like after a month or two   \n",
            "9                                                 NaN   \n",
            "10                                    Once in 4months   \n",
            "11                              Once or twice a Month   \n",
            "12                               Once or twice a Week   \n",
            "13                                   Once in 3 months   \n",
            "14                              Once or twice a Month   \n",
            "15                              Once or twice a Month   \n",
            "16                              Once or twice a Month   \n",
            "17                              Once or twice a Month   \n",
            "18                              Once or twice a Month   \n",
            "19                                                NaN   \n",
            "20  When there is an event that requires having a ...   \n",
            "21                                       All the time   \n",
            "22                          Like after a month or two   \n",
            "23                              Once or twice a Month   \n",
            "24                              Once or twice a Month   \n",
            "25                              Once or twice a Month   \n",
            "26                              Once or twice a Month   \n",
            "27                              Once or twice a Month   \n",
            "28                              Once or twice a Month   \n",
            "29                              Once or twice a Month   \n",
            "30                                      Any day iwant   \n",
            "31                              Once or twice a Month   \n",
            "32                               Once or twice a Week   \n",
            "33                              Once or twice a Month   \n",
            "34        Once or twice a Week, Once or twice a Month   \n",
            "35                               Once or twice a Week   \n",
            "36                              Once or twice a Month   \n",
            "37                               Once or twice a Week   \n",
            "38                               Once or twice a Week   \n",
            "39                   Depends on when I feel like cake   \n",
            "\n",
            "                     When do you buy Cake?  \\\n",
            "0                              For a party   \n",
            "1                 For a party, For leisure   \n",
            "2   for personal enjoyment and for parties   \n",
            "3                              For a party   \n",
            "4                              For a party   \n",
            "5                                      NaN   \n",
            "6                              For leisure   \n",
            "7                                      NaN   \n",
            "8                              For a party   \n",
            "9                                      NaN   \n",
            "10                For a party, For leisure   \n",
            "11                For a party, For leisure   \n",
            "12                             For leisure   \n",
            "13                             For a party   \n",
            "14                For a party, For leisure   \n",
            "15                             For a party   \n",
            "16                For a party, For leisure   \n",
            "17                             For a party   \n",
            "18                             For leisure   \n",
            "19                For a party, For leisure   \n",
            "20                For a party, For leisure   \n",
            "21                              As a snack   \n",
            "22                             For a party   \n",
            "23                    For a party, Craving   \n",
            "24                For a party, For leisure   \n",
            "25                             For leisure   \n",
            "26                             For a party   \n",
            "27                             For leisure   \n",
            "28                             For leisure   \n",
            "29                             For a party   \n",
            "30                             For a party   \n",
            "31                             For leisure   \n",
            "32                             For leisure   \n",
            "33                For a party, For leisure   \n",
            "34                For a party, For leisure   \n",
            "35                             For leisure   \n",
            "36                             For a party   \n",
            "37                For a party, For leisure   \n",
            "38                             For leisure   \n",
            "39             Whenever I want to eat cake   \n",
            "\n",
            "                                    Place of Purchase  \\\n",
            "0           Baker because they easily customize cakes   \n",
            "1                I keep changing depending on reviews   \n",
            "2   Mostly from Piato restaurant because there cak...   \n",
            "3                                              Friend   \n",
            "4                                         Supermarket   \n",
            "5                              From any supper market   \n",
            "6                                                 NaN   \n",
            "7                 From different but trending vendors   \n",
            "8   Usually its Temptations or Bake for me because...   \n",
            "9                                                 NaN   \n",
            "10                                            Friends   \n",
            "11  Java’s, heavenly cakes the cakes are moist not...   \n",
            "12                                         Good spots   \n",
            "13                                              Javas   \n",
            "14  Avodah Pastries and Cafe javas. They have real...   \n",
            "15                                                NaN   \n",
            "16                                          Backeries   \n",
            "17                                        Online shit   \n",
            "18                                       Serena hotel   \n",
            "19                                                NaN   \n",
            "20                                 A friend who bakes   \n",
            "21                   From any vendor I come across,,,   \n",
            "22  Usually its Temptations or Bake for me because...   \n",
            "23        A friend who bakes because I love her cakes   \n",
            "24                     Supermarkets because of hygine   \n",
            "25                          Any cake bakery around me   \n",
            "26                      I don't have a specific place   \n",
            "27  Small cakes from supermarkets because they're ...   \n",
            "28                                    Have a supplier   \n",
            "29  My wife makes it for me because she knows how ...   \n",
            "30                                                NaN   \n",
            "31                                                NDA   \n",
            "32                                 Any good cake shop   \n",
            "33                                   Friends who bake   \n",
            "34                                        Navy bakery   \n",
            "35  Cafe Javas, easier to get a slice. If i need a...   \n",
            "36                                                NaN   \n",
            "37                                                NaN   \n",
            "38                                    In supermarkets   \n",
            "39  There's a bakery I usually go to, because it h...   \n",
            "\n",
            "                  Medium of order  \\\n",
            "0                      Phone call   \n",
            "1            Phone call, Whatsapp   \n",
            "2            Phone call, Whatsapp   \n",
            "3                      Phone call   \n",
            "4                             NaN   \n",
            "5                      Phone call   \n",
            "6                   All the above   \n",
            "7                      Phone call   \n",
            "8            Phone call, Whatsapp   \n",
            "9                      Phone call   \n",
            "10           Phone call, Whatsapp   \n",
            "11           Phone call, Whatsapp   \n",
            "12           Phone call, Whatsapp   \n",
            "13                     Phone call   \n",
            "14           Phone call, Whatsapp   \n",
            "15           Phone call, Whatsapp   \n",
            "16           Phone call, Whatsapp   \n",
            "17                       Whatsapp   \n",
            "18                     Phone call   \n",
            "19           Phone call, Whatsapp   \n",
            "20           Phone call, Whatsapp   \n",
            "21                     Phone call   \n",
            "22           Phone call, Whatsapp   \n",
            "23           Phone call, Whatsapp   \n",
            "24                       Whatsapp   \n",
            "25                       Whatsapp   \n",
            "26                       Whatsapp   \n",
            "27                     Phone call   \n",
            "28                       Whatsapp   \n",
            "29           Phone call, Whatsapp   \n",
            "30                     Phone call   \n",
            "31                          Email   \n",
            "32                     Phone call   \n",
            "33           Phone call, Whatsapp   \n",
            "34           Phone call, Whatsapp   \n",
            "35              Whatsapp, Twitter   \n",
            "36           Phone call, Whatsapp   \n",
            "37                     Phone call   \n",
            "38                  All the above   \n",
            "39  Phone call, Whatsapp, Twitter   \n",
            "\n",
            "                          Problem faced ordering cake  \\\n",
            "0                                    Miscommunication   \n",
            "1                              Expectation vs reality   \n",
            "2   some bakeries write a wrong message or end up ...   \n",
            "3                                              Delays   \n",
            "4                                                 NaN   \n",
            "5                                             Colours   \n",
            "6                                                 NaN   \n",
            "7                            I haven't got any issues   \n",
            "8                              Delay in picking calls   \n",
            "9                                                 NaN   \n",
            "10                                               None   \n",
            "11                                     Late responses   \n",
            "12                                                NaN   \n",
            "13                                               None   \n",
            "14                                        None so far   \n",
            "15                                        None so far   \n",
            "16                                    Delayed replies   \n",
            "17                                                Non   \n",
            "18                                              Delay   \n",
            "19                   Network and poor time management   \n",
            "20                                     Delivery times   \n",
            "21                                               None   \n",
            "22                             Delay in picking calls   \n",
            "23                             Confusion is n flavors   \n",
            "24                                                N/a   \n",
            "25                 Failure to provide my exact orders   \n",
            "26  Bakers do what they think is nice not what the...   \n",
            "27  Delay especially when I order cake the very da...   \n",
            "28                              Takes time to deliver   \n",
            "29                                              Delay   \n",
            "30                                                NaN   \n",
            "31                            Getting the order wrong   \n",
            "32                                                NaN   \n",
            "33          Sometimes they don't be nice how I expect   \n",
            "34  Taking long and paying transport for transport...   \n",
            "35                                Haven't faced any..   \n",
            "36                                             Delays   \n",
            "37                                  their always slow   \n",
            "38                                              Delay   \n",
            "39                                      Late delivery   \n",
            "\n",
            "                                     Advise to bakers  Gender  \\\n",
            "0                                       Follow trends  Female   \n",
            "1   If they can be honest about not being able to ...  Female   \n",
            "2   Pay attention to a clients order, deliver on time  Female   \n",
            "3                                     New innovations    Male   \n",
            "4                                                 NaN     NaN   \n",
            "5                        Try discovering new flavours  Female   \n",
            "6                                                 NaN  Female   \n",
            "7   Be more open to teaching or passing on the kno...  Female   \n",
            "8   Advice customers sometimes on what there ordering  Female   \n",
            "9                                                 NaN  Female   \n",
            "10                                   Be more creative    Male   \n",
            "11                                                NaN  Female   \n",
            "12                                                NaN    Male   \n",
            "13                                    Time management  Female   \n",
            "14  Take into account the needs of the client but ...  Female   \n",
            "15                                                NaN  Female   \n",
            "16                              More customer service  Female   \n",
            "17                                         Don't know    Male   \n",
            "18                                                Any    Male   \n",
            "19                    Blend and increase size in cake  Female   \n",
            "20                      Have clear delivery timelines    Male   \n",
            "21  Baker's shouldnt just bake any howly without p...  Female   \n",
            "22  Advice customers sometimes on what there ordering  Female   \n",
            "23  Stop putting a lot of icing or cream or fondan...  Female   \n",
            "24                              Make make nicer cakes    Male   \n",
            "25                             Base on truth not lies  Female   \n",
            "26                              Value customer choice  Female   \n",
            "27  Get creative and suggest beautiful wordings in...  Female   \n",
            "28                                                NaN  Female   \n",
            "29                                       Work in time    Male   \n",
            "30                                                NaN    Male   \n",
            "31                                 Ask for my flavors    Male   \n",
            "32                                   Enrich the cakes  Female   \n",
            "33                                         Be uquinic  Female   \n",
            "34            To always cater for transportation fees    Male   \n",
            "35              Can't tell, always get the good stuff    Male   \n",
            "36                                    Timely delivery  Female   \n",
            "37                                                NaN  Female   \n",
            "38               I wish they could make more cupcakes  Female   \n",
            "39  Deliver exactly what was ordered,  Bakers coul...  Female   \n",
            "\n",
            "           Residence    Age        category  \n",
            "0             Ntinda  24-26        Bakeries  \n",
            "1     Buziga kampala  27-30           Piato  \n",
            "2        Kisosonkole  27-30           Piato  \n",
            "3             Gayaza  27-30  Friends/Family  \n",
            "4                NaN    NaN    Supermarkets  \n",
            "5            Kampala  18-23    Supermarkets  \n",
            "6                NaN  24-26           Other  \n",
            "7          Namugongo    30<          Vendor  \n",
            "8          Namugongo  24-26        Bakeries  \n",
            "9                NaN  24-26           Other  \n",
            "10            Ntinda  27-30  Friends/Family  \n",
            "11      Kyaliwajjala  24-26      Cafe Javas  \n",
            "12               NaN  18-23           Other  \n",
            "13           Kampala  18-23      Cafe Javas  \n",
            "14           Kampala  24-26      Cafe Javas  \n",
            "15              Kira  27-30           Other  \n",
            "16           Kampala  27-30           Other  \n",
            "17          Personal  18-23          Online  \n",
            "18              Kira  24-26          serena  \n",
            "19            Gayaza  24-26           Other  \n",
            "20           Kampala  27-30        Bakeries  \n",
            "21           Kampala  24-26           Piato  \n",
            "22         Namugongo  24-26        Bakeries  \n",
            "23          Makerere  18-23        Bakeries  \n",
            "24                US  27-30    Supermarkets  \n",
            "25  Entebbe and Gulu  24-26        Bakeries  \n",
            "26              Lira  18-23        Bakeries  \n",
            "27    Lira currently  18-23          serena  \n",
            "28               NaN  27-30        Bakeries  \n",
            "29           Kampala    30<           Piato  \n",
            "30           Muyenga  27-30           Other  \n",
            "31            Nalyaa  24-26           Other  \n",
            "32          Kyambogo  18-23           Other  \n",
            "33              Gulu  18-23        Bakeries  \n",
            "34          Munyonyo  27-30        Bakeries  \n",
            "35           Kampala  18-23        Bakeries  \n",
            "36               NaN    30<           Other  \n",
            "37            Kasubi  18-23           Other  \n",
            "38           Kampala  27-30    Supermarkets  \n",
            "39           Bulenga  18-23        Bakeries  \n"
          ]
        }
      ]
    },
    {
      "cell_type": "markdown",
      "source": [
        "Anayse with Pyspark"
      ],
      "metadata": {
        "id": "I9rMLtFOXvHB"
      }
    },
    {
      "cell_type": "code",
      "source": [
        "from pyspark.sql import SQLContext\n",
        "from pyspark.sql.types import *\n",
        "from pyspark.sql import Row\n",
        "from pyspark import SparkContext"
      ],
      "metadata": {
        "id": "N0SSu34x5Vbm"
      },
      "execution_count": 2,
      "outputs": []
    },
    {
      "cell_type": "code",
      "source": [
        "sc =SparkContext()"
      ],
      "metadata": {
        "id": "GlwPRYP35X18"
      },
      "execution_count": 3,
      "outputs": []
    },
    {
      "cell_type": "code",
      "source": [
        "import pyspark\n",
        "from pyspark.sql import SparkSession\n",
        "spark = SparkSession.builder.master(\"local[1]\").appName('Spark').getOrCreate()"
      ],
      "metadata": {
        "id": "yhrTnJb45bUM"
      },
      "execution_count": 4,
      "outputs": []
    },
    {
      "cell_type": "code",
      "source": [
        "survey = spark.read.csv(\"ARE YOU A CAKE OTAKU_Cleaned1.csv\", header=True, inferSchema=True)"
      ],
      "metadata": {
        "id": "CuifMVQh6Nun"
      },
      "execution_count": 8,
      "outputs": []
    },
    {
      "cell_type": "code",
      "source": [
        "survey.createOrReplaceTempView(\"table1\")\n",
        "survey.show(10)"
      ],
      "metadata": {
        "colab": {
          "base_uri": "https://localhost:8080/"
        },
        "id": "kEDRy70p8aH3",
        "outputId": "c40f50ea-2018-43d0-fcaa-232e643b7587"
      },
      "execution_count": 9,
      "outputs": [
        {
          "output_type": "stream",
          "name": "stdout",
          "text": [
            "+---------+--------------------+------------------------+--------------------+--------------------+--------------------+------------------------+---------------------+--------------------+--------------------+---------------------------+--------------------+------+--------------+-----+-----------------+--------------+--------------------+\n",
            "|Love Cake|     Favorite Flavor|Other activities enjoyed|Perfect size of cake|     Cake experience|  Reason to buy Cake|Frequency of buying cake|When do you buy Cake?|   Place of Purchase|     Medium of order|Problem faced ordering cake|    Advise to bakers|Gender|     Residence|  Age|         category|     category1|    problem_category|\n",
            "+---------+--------------------+------------------------+--------------------+--------------------+--------------------+------------------------+---------------------+--------------------+--------------------+---------------------------+--------------------+------+--------------+-----+-----------------+--------------+--------------------+\n",
            "|      Yes|     Chocolate fudge|                Icecream|               Small|           Chocolate|           Birthdays|    Once or twice a M...|          For a party|Baker because the...|          Phone call|           Miscommunication|       Follow trends|Female|        Ntinda|24-26|         Bakeries|      Bakeries|    Miscommunication|\n",
            "|      Yes|Everything minus ...|                  Movies|               Large|    I just love cake|Birthday and beca...|    Once or twice a M...| For a party, For ...|I keep changing d...|Phone call, Whatsapp|       Expectation vs re...|If they can be ho...|Female|Buziga kampala|27-30|            Other|         Piato|Expectation vs re...|\n",
            "|      Yes|     Chocolate fudge|                relaxing|depends on the oc...|I generally enjoy...|to eat or celebra...|          As need arises| for personal enjo...|Mostly from Piato...|Phone call, Whatsapp|       some bakeries wri...|Pay attention to ...|Female|   Kisosonkole|27-30|Restaurants/Cafes|         Piato| Wrong Order/Flavors|\n",
            "|      Yes|           Chocolate|                 Reading|              Medium|           Delicious|              To eat|                    null|          For a party|              Friend|          Phone call|                     Delays|     New innovations|  Male|        Gayaza|27-30|   Friends/Family|Friends/Family|              Delays|\n",
            "|       No|                 Non|                 Chapati|               Small|                 Non|         Celebration|             Once a year|          For a party|         Supermarket|                null|                       null|                null|  null|          null| null|     Supermarkets|  Supermarkets|               Other|\n",
            "|      Yes|              Banana|                  Yogurt|                null|Love so much that...| Because I to eat it|                    null|                 null|From any supper m...|          Phone call|                    Colours|Try discovering n...|Female|       Kampala|18-23|            Other|  Supermarkets|               Other|\n",
            "|      Yes|          Red velvet|                  Travel|              Medium|                null|     Cause I like it|    Once or twice a M...|          For leisure|                null|       All the above|                       null|                null|Female|          null|24-26|            Other|         Other|               Other|\n",
            "|      Yes|          Red velvet|                 Cooking|              Medium|My first cake was...|Inorder to feel t...|    Once or twice a M...|                 null|From different bu...|          Phone call|       I haven't got any...|Be more open to t...|Female|     Namugongo|  30<|            Other|        Vendor|               Other|\n",
            "|      Yes|           Blueberry|         Baking ,cooking|       Medium, Large|It was really gre...|When i have somet...|    Like after a mont...|          For a party|Usually its Tempt...|Phone call, Whatsapp|       Delay in picking ...|Advice customers ...|Female|     Namugongo|24-26|            Other|      Bakeries|              Delays|\n",
            "|      Yes|              Banana|    Making new friend...|               Large|                null|                null|                    null|                 null|                null|          Phone call|                       null|                null|Female|          null|24-26|            Other|         Other|               Other|\n",
            "+---------+--------------------+------------------------+--------------------+--------------------+--------------------+------------------------+---------------------+--------------------+--------------------+---------------------------+--------------------+------+--------------+-----+-----------------+--------------+--------------------+\n",
            "only showing top 10 rows\n",
            "\n"
          ]
        }
      ]
    },
    {
      "cell_type": "code",
      "source": [],
      "metadata": {
        "id": "H1PtnRhbTvEV"
      },
      "execution_count": null,
      "outputs": []
    },
    {
      "cell_type": "code",
      "source": [
        "\n",
        "Top10 = spark.sql(\"SELECT `Favorite Flavor`, count(*) AS `Total no` FROM table1 survey GROUP BY `Favorite Flavor` ORDER BY `Total no` DESC\")\n",
        "Top10.show(10)"
      ],
      "metadata": {
        "colab": {
          "base_uri": "https://localhost:8080/"
        },
        "id": "YJDSh4-I9jP_",
        "outputId": "4aa0227f-d792-425e-abd1-33d9a8089b33"
      },
      "execution_count": 10,
      "outputs": [
        {
          "output_type": "stream",
          "name": "stdout",
          "text": [
            "+---------------+--------+\n",
            "|Favorite Flavor|Total no|\n",
            "+---------------+--------+\n",
            "|        Vanilla|       5|\n",
            "|      Chocolate|       4|\n",
            "|     Red velvet|       4|\n",
            "|           null|       3|\n",
            "|     Strawberry|       3|\n",
            "|Chocolate fudge|       2|\n",
            "|         Banana|       2|\n",
            "|           Mint|       2|\n",
            "|      Blueberry|       2|\n",
            "|   Black Forest|       1|\n",
            "+---------------+--------+\n",
            "only showing top 10 rows\n",
            "\n"
          ]
        }
      ]
    },
    {
      "cell_type": "code",
      "source": [
        "Top10 = spark.sql(\"SELECT `Other activities enjoyed`, count(*) AS `Total no` FROM table1 survey GROUP BY `Other activities enjoyed` ORDER BY `Total no` DESC\")\n",
        "Top10.show(10)"
      ],
      "metadata": {
        "colab": {
          "base_uri": "https://localhost:8080/"
        },
        "id": "pmzQXbbTRTAD",
        "outputId": "4f3f566a-e051-41e5-8455-c2e620bbaf5f"
      },
      "execution_count": null,
      "outputs": [
        {
          "output_type": "stream",
          "name": "stdout",
          "text": [
            "+------------------------+--------+\n",
            "|Other activities enjoyed|Total no|\n",
            "+------------------------+--------+\n",
            "|                    null|       2|\n",
            "|                  Movies|       2|\n",
            "|                 Reading|       2|\n",
            "|         Baking ,cooking|       2|\n",
            "|                 Cooking|       2|\n",
            "|    Reading, writing,...|       1|\n",
            "|             Researching|       1|\n",
            "|                  Gaming|       1|\n",
            "|                  Yogurt|       1|\n",
            "|                Swimming|       1|\n",
            "+------------------------+--------+\n",
            "only showing top 10 rows\n",
            "\n"
          ]
        }
      ]
    },
    {
      "cell_type": "code",
      "source": [
        "Top5= spark.sql(\"SELECT `Perfect size of cake`, count(*) AS `Total no` FROM table1 survey GROUP BY `Perfect size of cake` ORDER BY `Total no` DESC\")\n",
        "Top5.show(5)"
      ],
      "metadata": {
        "colab": {
          "base_uri": "https://localhost:8080/"
        },
        "id": "EMfJSKZ4RzdQ",
        "outputId": "1cd9c9c8-1518-47c6-cb03-f6228355ac80"
      },
      "execution_count": null,
      "outputs": [
        {
          "output_type": "stream",
          "name": "stdout",
          "text": [
            "+--------------------+--------+\n",
            "|Perfect size of cake|Total no|\n",
            "+--------------------+--------+\n",
            "|              Medium|      20|\n",
            "|               Large|      10|\n",
            "|               Small|       2|\n",
            "|       Medium, Large|       2|\n",
            "|                null|       1|\n",
            "+--------------------+--------+\n",
            "only showing top 5 rows\n",
            "\n"
          ]
        }
      ]
    },
    {
      "cell_type": "code",
      "source": [
        "Top5 = spark.sql(\"\"\"\n",
        "    SELECT `Perfect size of cake`, count(*) AS `Total no`\n",
        "    FROM table1 survey\n",
        "    WHERE `Perfect size of cake` IS NOT NULL  -- Exclude rows with null values\n",
        "    GROUP BY `Perfect size of cake`\n",
        "    ORDER BY `Total no` DESC\n",
        "\"\"\")\n",
        "Top5.show(4)"
      ],
      "metadata": {
        "colab": {
          "base_uri": "https://localhost:8080/"
        },
        "id": "7-QHRe5_Pjid",
        "outputId": "9ae15df5-1e7c-4125-b609-dc472a991a0e"
      },
      "execution_count": 12,
      "outputs": [
        {
          "output_type": "stream",
          "name": "stdout",
          "text": [
            "+--------------------+--------+\n",
            "|Perfect size of cake|Total no|\n",
            "+--------------------+--------+\n",
            "|              Medium|      20|\n",
            "|               Large|      10|\n",
            "|               Small|       2|\n",
            "|       Medium, Large|       2|\n",
            "+--------------------+--------+\n",
            "only showing top 4 rows\n",
            "\n"
          ]
        }
      ]
    },
    {
      "cell_type": "code",
      "source": [
        "Top5= spark.sql(\"SELECT `Medium of order`, count(*) AS `Total no` FROM table1 survey GROUP BY `Medium of order` ORDER BY `Total no` DESC\")\n",
        "Top5.show(10)\n"
      ],
      "metadata": {
        "id": "MqNGCfCW721G",
        "colab": {
          "base_uri": "https://localhost:8080/"
        },
        "outputId": "c56cceba-b514-4c15-86a8-2b01047d3502"
      },
      "execution_count": null,
      "outputs": [
        {
          "output_type": "stream",
          "name": "stdout",
          "text": [
            "+--------------------+--------+\n",
            "|     Medium of order|Total no|\n",
            "+--------------------+--------+\n",
            "|Phone call, Whatsapp|      17|\n",
            "|          Phone call|      12|\n",
            "|            Whatsapp|       5|\n",
            "|       All the above|       2|\n",
            "|   Whatsapp, Twitter|       1|\n",
            "|                null|       1|\n",
            "|Phone call, Whats...|       1|\n",
            "|               Email|       1|\n",
            "+--------------------+--------+\n",
            "\n"
          ]
        }
      ]
    },
    {
      "cell_type": "code",
      "source": [
        "Top5= spark.sql(\"SELECT `Problem faced ordering cake`, count(*) AS `Total no` FROM table1 survey GROUP BY `Problem faced ordering cake` ORDER BY `Total no` DESC\")\n",
        "Top5.show(20)\n",
        "\n"
      ],
      "metadata": {
        "colab": {
          "base_uri": "https://localhost:8080/"
        },
        "id": "WrNcs2zTTIyv",
        "outputId": "3c0ebc0b-c9dc-49be-864a-85dd7218edc5"
      },
      "execution_count": null,
      "outputs": [
        {
          "output_type": "stream",
          "name": "stdout",
          "text": [
            "+---------------------------+--------+\n",
            "|Problem faced ordering cake|Total no|\n",
            "+---------------------------+--------+\n",
            "|                       null|       6|\n",
            "|                       None|       3|\n",
            "|                      Delay|       3|\n",
            "|                None so far|       2|\n",
            "|                     Delays|       2|\n",
            "|       Delay in picking ...|       2|\n",
            "|       Network and poor ...|       1|\n",
            "|            Delayed replies|       1|\n",
            "|       some bakeries wri...|       1|\n",
            "|                    Colours|       1|\n",
            "|       Confusion is n fl...|       1|\n",
            "|       Sometimes they do...|       1|\n",
            "|                        N/a|       1|\n",
            "|       Delay especially ...|       1|\n",
            "|        Haven't faced any..|       1|\n",
            "|       Getting the order...|       1|\n",
            "|             Late responses|       1|\n",
            "|                        Non|       1|\n",
            "|       Taking long and p...|       1|\n",
            "|       Takes time to del...|       1|\n",
            "+---------------------------+--------+\n",
            "only showing top 20 rows\n",
            "\n"
          ]
        }
      ]
    },
    {
      "cell_type": "code",
      "source": [
        "Top5= spark.sql(\"SELECT `AGE`, count(*) AS `Total no` FROM table1 survey WHERE AGE is not NULL GROUP BY `AGE` ORDER BY `Total no` DESC\")\n",
        "Top5.show(5)"
      ],
      "metadata": {
        "colab": {
          "base_uri": "https://localhost:8080/"
        },
        "id": "t-TBiMuTTxdr",
        "outputId": "d7568290-a52e-4d2f-895a-e3b6c583c350"
      },
      "execution_count": 14,
      "outputs": [
        {
          "output_type": "stream",
          "name": "stdout",
          "text": [
            "+-----+--------+\n",
            "|  AGE|Total no|\n",
            "+-----+--------+\n",
            "|27-30|      12|\n",
            "|24-26|      12|\n",
            "|18-23|      12|\n",
            "|  30<|       3|\n",
            "+-----+--------+\n",
            "\n"
          ]
        }
      ]
    },
    {
      "cell_type": "code",
      "source": [],
      "metadata": {
        "id": "fMRW-1J3Uw8g"
      },
      "execution_count": null,
      "outputs": []
    },
    {
      "cell_type": "code",
      "source": [
        "Top3= spark.sql(\"SELECT `Residence`, count(*) AS `Total no` FROM table1 survey GROUP BY `Residence` ORDER BY `Total no` DESC\")\n",
        "Top3.show(23)"
      ],
      "metadata": {
        "colab": {
          "base_uri": "https://localhost:8080/"
        },
        "id": "3mDfioZwUgIm",
        "outputId": "92ed8215-f9a4-44c8-d82a-206d078b6e37"
      },
      "execution_count": null,
      "outputs": [
        {
          "output_type": "stream",
          "name": "stdout",
          "text": [
            "+----------------+--------+\n",
            "|       Residence|Total no|\n",
            "+----------------+--------+\n",
            "|         Kampala|       9|\n",
            "|            null|       6|\n",
            "|       Namugongo|       3|\n",
            "|            Kira|       2|\n",
            "|          Ntinda|       2|\n",
            "|          Gayaza|       2|\n",
            "|     Kisosonkole|       1|\n",
            "|        Personal|       1|\n",
            "|          Kasubi|       1|\n",
            "|        Makerere|       1|\n",
            "|  Lira currently|       1|\n",
            "|              US|       1|\n",
            "|  Buziga kampala|       1|\n",
            "|            Lira|       1|\n",
            "|          Nalyaa|       1|\n",
            "|    Kyaliwajjala|       1|\n",
            "|        Kyambogo|       1|\n",
            "|        Munyonyo|       1|\n",
            "|            Gulu|       1|\n",
            "|         Muyenga|       1|\n",
            "|Entebbe and Gulu|       1|\n",
            "|         Bulenga|       1|\n",
            "+----------------+--------+\n",
            "\n"
          ]
        }
      ]
    },
    {
      "cell_type": "code",
      "source": [
        "Top3= spark.sql(\"SELECT `Gender`, count(*) AS `Total no` FROM table1 survey WHERE Gender is not NULL GROUP BY `Gender` ORDER BY `Total no` DESC\")\n",
        "Top3.show(3)"
      ],
      "metadata": {
        "colab": {
          "base_uri": "https://localhost:8080/"
        },
        "id": "tR_XHNPTUHbk",
        "outputId": "3138dd45-6392-43a5-bf2e-5147261fdd84"
      },
      "execution_count": 13,
      "outputs": [
        {
          "output_type": "stream",
          "name": "stdout",
          "text": [
            "+------+--------+\n",
            "|Gender|Total no|\n",
            "+------+--------+\n",
            "|Female|      27|\n",
            "|  Male|      12|\n",
            "+------+--------+\n",
            "\n"
          ]
        }
      ]
    }
  ]
}